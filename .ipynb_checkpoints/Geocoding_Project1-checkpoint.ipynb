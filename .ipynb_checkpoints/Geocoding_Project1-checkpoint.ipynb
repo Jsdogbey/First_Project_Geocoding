{
 "cells": [
  {
   "cell_type": "markdown",
   "metadata": {},
   "source": [
    "# GEOCODING  \n",
    "\n",
    "The aim of this project is to geocode some knowns location within Ghana's two main cities which are Accra and Kumasi.\n"
   ]
  },
  {
   "cell_type": "raw",
   "metadata": {},
   "source": [
    "Import the needed library."
   ]
  },
  {
   "cell_type": "code",
   "execution_count": 1,
   "metadata": {},
   "outputs": [],
   "source": [
    "import geopy\n",
    "import geopandas as gpd\n",
    "import pandas as pd\n",
    "from geopy.geocoders import Nominatim\n",
    "import folium\n",
    "from folium.plugins import MarkerCluster\n",
    "from folium.plugins import FastMarkerCluster"
   ]
  },
  {
   "cell_type": "code",
   "execution_count": 2,
   "metadata": {},
   "outputs": [
    {
     "data": {
      "text/html": [
       "<div>\n",
       "<style scoped>\n",
       "    .dataframe tbody tr th:only-of-type {\n",
       "        vertical-align: middle;\n",
       "    }\n",
       "\n",
       "    .dataframe tbody tr th {\n",
       "        vertical-align: top;\n",
       "    }\n",
       "\n",
       "    .dataframe thead th {\n",
       "        text-align: right;\n",
       "    }\n",
       "</style>\n",
       "<table border=\"1\" class=\"dataframe\">\n",
       "  <thead>\n",
       "    <tr style=\"text-align: right;\">\n",
       "      <th></th>\n",
       "      <th>Name</th>\n",
       "      <th>City</th>\n",
       "      <th>Country</th>\n",
       "      <th>ADDRESS</th>\n",
       "    </tr>\n",
       "  </thead>\n",
       "  <tbody>\n",
       "    <tr>\n",
       "      <th>0</th>\n",
       "      <td>Ghana International School</td>\n",
       "      <td>Accra</td>\n",
       "      <td>Ghana</td>\n",
       "      <td>Ghana International School, Accra, Ghana</td>\n",
       "    </tr>\n",
       "    <tr>\n",
       "      <th>1</th>\n",
       "      <td>High Commission of the Republic of Sierra Leone</td>\n",
       "      <td>Accra</td>\n",
       "      <td>Ghana</td>\n",
       "      <td>High Commission of the Republic of Sierra Leon...</td>\n",
       "    </tr>\n",
       "    <tr>\n",
       "      <th>2</th>\n",
       "      <td>University of Ghana</td>\n",
       "      <td>Accra</td>\n",
       "      <td>Ghana</td>\n",
       "      <td>University of Ghana, Accra, Ghana</td>\n",
       "    </tr>\n",
       "    <tr>\n",
       "      <th>3</th>\n",
       "      <td>37 Millitary Hospital</td>\n",
       "      <td>Accra</td>\n",
       "      <td>Ghana</td>\n",
       "      <td>37 Millitary Hospital, Accra, Ghana</td>\n",
       "    </tr>\n",
       "    <tr>\n",
       "      <th>4</th>\n",
       "      <td>Accra International Conference Center</td>\n",
       "      <td>Accra</td>\n",
       "      <td>Ghana</td>\n",
       "      <td>Accra International Conference Center, Accra, ...</td>\n",
       "    </tr>\n",
       "  </tbody>\n",
       "</table>\n",
       "</div>"
      ],
      "text/plain": [
       "                                              Name   City Country  \\\n",
       "0                       Ghana International School  Accra   Ghana   \n",
       "1  High Commission of the Republic of Sierra Leone  Accra   Ghana   \n",
       "2                              University of Ghana  Accra   Ghana   \n",
       "3                            37 Millitary Hospital  Accra   Ghana   \n",
       "4            Accra International Conference Center  Accra   Ghana   \n",
       "\n",
       "                                             ADDRESS  \n",
       "0           Ghana International School, Accra, Ghana  \n",
       "1  High Commission of the Republic of Sierra Leon...  \n",
       "2                  University of Ghana, Accra, Ghana  \n",
       "3                37 Millitary Hospital, Accra, Ghana  \n",
       "4  Accra International Conference Center, Accra, ...  "
      ]
     },
     "execution_count": 2,
     "metadata": {},
     "output_type": "execute_result"
    }
   ],
   "source": [
    "#Read the data \n",
    "df = pd.read_csv(\"Ghana_Project.csv\")\n",
    "df.head()\n",
    "\n",
    "#Merge the needed Fields\n",
    "df[\"ADDRESS\"] = df[\"Name\"] +', '+ df[\"City\"] +', ' + df[\"Country\"]\n",
    "df.head()"
   ]
  },
  {
   "cell_type": "code",
   "execution_count": null,
   "metadata": {},
   "outputs": [],
   "source": []
  },
  {
   "cell_type": "markdown",
   "metadata": {},
   "source": [
    "Import rate limiter to delay the geocoding calls between the addresses"
   ]
  },
  {
   "cell_type": "code",
   "execution_count": 3,
   "metadata": {},
   "outputs": [],
   "source": [
    "geolocator = Nominatim(user_agent=\"John\")\n",
    "from geopy.extra.rate_limiter import RateLimiter\n",
    "geocode = RateLimiter(geolocator.geocode, min_delay_seconds =1)"
   ]
  },
  {
   "cell_type": "markdown",
   "metadata": {},
   "source": [
    "Location column must be created to store the coordinates as a tuple (Actual geocoding)"
   ]
  },
  {
   "cell_type": "code",
   "execution_count": 4,
   "metadata": {},
   "outputs": [],
   "source": [
    "df['location'] = df['ADDRESS'].apply(geocode)"
   ]
  },
  {
   "cell_type": "markdown",
   "metadata": {},
   "source": [
    "Create longitude, latitude and altitude from location column above"
   ]
  },
  {
   "cell_type": "code",
   "execution_count": 5,
   "metadata": {},
   "outputs": [],
   "source": [
    "df['point'] = df['location'].apply(lambda loc: tuple(loc.point) if loc else None)"
   ]
  },
  {
   "cell_type": "markdown",
   "metadata": {},
   "source": [
    "##### split the point columns into three; latitudes, longitudes and altitudes"
   ]
  },
  {
   "cell_type": "code",
   "execution_count": 6,
   "metadata": {},
   "outputs": [],
   "source": [
    "df[['latitude', 'longitude', 'altitude']] = pd.DataFrame(df['point'].tolist(), index=df.index)"
   ]
  },
  {
   "cell_type": "markdown",
   "metadata": {},
   "source": [
    "clean unwanted columns"
   ]
  },
  {
   "cell_type": "code",
   "execution_count": 7,
   "metadata": {},
   "outputs": [],
   "source": [
    "df = df.drop(['City', 'Country', 'ADDRESS', 'location', 'point'], axis = 1)"
   ]
  },
  {
   "cell_type": "markdown",
   "metadata": {},
   "source": [
    "display the result"
   ]
  },
  {
   "cell_type": "code",
   "execution_count": 8,
   "metadata": {},
   "outputs": [
    {
     "data": {
      "text/html": [
       "<div>\n",
       "<style scoped>\n",
       "    .dataframe tbody tr th:only-of-type {\n",
       "        vertical-align: middle;\n",
       "    }\n",
       "\n",
       "    .dataframe tbody tr th {\n",
       "        vertical-align: top;\n",
       "    }\n",
       "\n",
       "    .dataframe thead th {\n",
       "        text-align: right;\n",
       "    }\n",
       "</style>\n",
       "<table border=\"1\" class=\"dataframe\">\n",
       "  <thead>\n",
       "    <tr style=\"text-align: right;\">\n",
       "      <th></th>\n",
       "      <th>Name</th>\n",
       "      <th>latitude</th>\n",
       "      <th>longitude</th>\n",
       "      <th>altitude</th>\n",
       "    </tr>\n",
       "  </thead>\n",
       "  <tbody>\n",
       "    <tr>\n",
       "      <th>0</th>\n",
       "      <td>Ghana International School</td>\n",
       "      <td>5.580337</td>\n",
       "      <td>-0.176469</td>\n",
       "      <td>0.0</td>\n",
       "    </tr>\n",
       "    <tr>\n",
       "      <th>1</th>\n",
       "      <td>High Commission of the Republic of Sierra Leone</td>\n",
       "      <td>5.580602</td>\n",
       "      <td>-0.177936</td>\n",
       "      <td>0.0</td>\n",
       "    </tr>\n",
       "    <tr>\n",
       "      <th>2</th>\n",
       "      <td>University of Ghana</td>\n",
       "      <td>5.648167</td>\n",
       "      <td>-0.190270</td>\n",
       "      <td>0.0</td>\n",
       "    </tr>\n",
       "    <tr>\n",
       "      <th>3</th>\n",
       "      <td>37 Millitary Hospital</td>\n",
       "      <td>NaN</td>\n",
       "      <td>NaN</td>\n",
       "      <td>NaN</td>\n",
       "    </tr>\n",
       "    <tr>\n",
       "      <th>4</th>\n",
       "      <td>Accra International Conference Center</td>\n",
       "      <td>5.554312</td>\n",
       "      <td>-0.193372</td>\n",
       "      <td>0.0</td>\n",
       "    </tr>\n",
       "  </tbody>\n",
       "</table>\n",
       "</div>"
      ],
      "text/plain": [
       "                                              Name  latitude  longitude  \\\n",
       "0                       Ghana International School  5.580337  -0.176469   \n",
       "1  High Commission of the Republic of Sierra Leone  5.580602  -0.177936   \n",
       "2                              University of Ghana  5.648167  -0.190270   \n",
       "3                            37 Millitary Hospital       NaN        NaN   \n",
       "4            Accra International Conference Center  5.554312  -0.193372   \n",
       "\n",
       "   altitude  \n",
       "0       0.0  \n",
       "1       0.0  \n",
       "2       0.0  \n",
       "3       NaN  \n",
       "4       0.0  "
      ]
     },
     "execution_count": 8,
     "metadata": {},
     "output_type": "execute_result"
    }
   ],
   "source": [
    "df.head()"
   ]
  },
  {
   "cell_type": "markdown",
   "metadata": {},
   "source": [
    "Avoid Nan error by dropping the rows that are empty"
   ]
  },
  {
   "cell_type": "code",
   "execution_count": 9,
   "metadata": {},
   "outputs": [],
   "source": [
    "df=df.dropna(subset=['longitude'])\n",
    "\n",
    "df=df.dropna(subset=['latitude'])"
   ]
  },
  {
   "cell_type": "code",
   "execution_count": 10,
   "metadata": {},
   "outputs": [],
   "source": [
    "map1 = folium.Map(\n",
    "    location = [5.580337, -0.176469],\n",
    "    tiles = 'Stamen Terrain',\n",
    "zoom_start=7,\n",
    ")"
   ]
  },
  {
   "cell_type": "code",
   "execution_count": 11,
   "metadata": {},
   "outputs": [
    {
     "data": {
      "text/html": [
       "<div style=\"width:100%;\"><div style=\"position:relative;width:100%;height:0;padding-bottom:60%;\"><iframe src=\"data:text/html;charset=utf-8;base64,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\" style=\"position:absolute;width:100%;height:100%;left:0;top:0;border:none !important;\" allowfullscreen webkitallowfullscreen mozallowfullscreen></iframe></div></div>"
      ],
      "text/plain": [
       "<folium.folium.Map at 0x19379d3ba60>"
      ]
     },
     "execution_count": 11,
     "metadata": {},
     "output_type": "execute_result"
    }
   ],
   "source": [
    "df.apply(lambda row:folium.Marker(\n",
    "    location=[row[\"latitude\"],\n",
    "              row[\"longitude\"]],\n",
    "    popup = row['Name'], \n",
    "    icon=folium.Icon(color='red')\n",
    "    ).add_to(map1), axis=1)\n",
    "map1"
   ]
  },
  {
   "cell_type": "code",
   "execution_count": null,
   "metadata": {},
   "outputs": [],
   "source": []
  },
  {
   "cell_type": "code",
   "execution_count": 13,
   "metadata": {},
   "outputs": [],
   "source": [
    "# Save the map\n",
    "map1.save(\"Ghana_geocoded_Address.html\")"
   ]
  },
  {
   "cell_type": "markdown",
   "metadata": {},
   "source": [
    "\n"
   ]
  },
  {
   "cell_type": "code",
   "execution_count": null,
   "metadata": {},
   "outputs": [],
   "source": []
  }
 ],
 "metadata": {
  "kernelspec": {
   "display_name": "Python 3",
   "language": "python",
   "name": "python3"
  },
  "language_info": {
   "codemirror_mode": {
    "name": "ipython",
    "version": 3
   },
   "file_extension": ".py",
   "mimetype": "text/x-python",
   "name": "python",
   "nbconvert_exporter": "python",
   "pygments_lexer": "ipython3",
   "version": "3.8.5"
  }
 },
 "nbformat": 4,
 "nbformat_minor": 4
}
