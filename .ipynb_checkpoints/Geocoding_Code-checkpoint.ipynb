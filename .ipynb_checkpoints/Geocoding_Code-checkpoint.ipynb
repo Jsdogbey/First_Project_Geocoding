{
 "cells": [
  {
   "cell_type": "markdown",
   "metadata": {},
   "source": [
    "# GEOCODING  \n",
    "\n",
    "The aim of this project is to geocode some knowns location within Ghana's two main cities which are Accra and Kumasi.\n"
   ]
  },
  {
   "cell_type": "raw",
   "metadata": {},
   "source": [
    "Import the needed library."
   ]
  },
  {
   "cell_type": "code",
   "execution_count": 4,
   "metadata": {},
   "outputs": [],
   "source": [
    "import geopy\n",
    "import geopandas as gpd\n",
    "import pandas as pd\n",
    "from geopy.geocoders import Nominatim\n",
    "import folium\n",
    "from folium.plugins import MarkerCluster\n",
    "from folium.plugins import FastMarkerCluster"
   ]
  },
  {
   "cell_type": "code",
   "execution_count": 14,
   "metadata": {},
   "outputs": [
    {
     "data": {
      "text/html": [
       "<div>\n",
       "<style scoped>\n",
       "    .dataframe tbody tr th:only-of-type {\n",
       "        vertical-align: middle;\n",
       "    }\n",
       "\n",
       "    .dataframe tbody tr th {\n",
       "        vertical-align: top;\n",
       "    }\n",
       "\n",
       "    .dataframe thead th {\n",
       "        text-align: right;\n",
       "    }\n",
       "</style>\n",
       "<table border=\"1\" class=\"dataframe\">\n",
       "  <thead>\n",
       "    <tr style=\"text-align: right;\">\n",
       "      <th></th>\n",
       "      <th>ESTABLISHMENTNAME</th>\n",
       "      <th>EXACT LOCATION</th>\n",
       "      <th>STREETADDRESS</th>\n",
       "      <th>SUBURB</th>\n",
       "      <th>TOWNNAME</th>\n",
       "      <th>POSTALADDRESS</th>\n",
       "      <th>PHONE</th>\n",
       "      <th>PRINCIPALECONOMIC ACTIVITY</th>\n",
       "      <th>ADDRESS</th>\n",
       "    </tr>\n",
       "  </thead>\n",
       "  <tbody>\n",
       "    <tr>\n",
       "      <th>0</th>\n",
       "      <td>1106 DRINKING SPOT</td>\n",
       "      <td>OPPOSITE MARY KOOMSON'S SALON</td>\n",
       "      <td>NaN</td>\n",
       "      <td>AKAPORISO</td>\n",
       "      <td>OBUASI</td>\n",
       "      <td>NaN</td>\n",
       "      <td>249270318.0</td>\n",
       "      <td>Beverage serving activities</td>\n",
       "      <td>NaN</td>\n",
       "    </tr>\n",
       "    <tr>\n",
       "      <th>1</th>\n",
       "      <td>12 APOSTLES CHURCH</td>\n",
       "      <td>OPPOSITE THE CHURCH OF PENTECOST</td>\n",
       "      <td>NANKABA STREET</td>\n",
       "      <td>ANYINAMFIE</td>\n",
       "      <td>OBUASI</td>\n",
       "      <td>NaN</td>\n",
       "      <td>249512289.0</td>\n",
       "      <td>Activities of religious organizations</td>\n",
       "      <td>12 APOSTLES CHURCH, NANKABA STREET, OBUASI</td>\n",
       "    </tr>\n",
       "    <tr>\n",
       "      <th>2</th>\n",
       "      <td>12 APOSTLES HEALING CHURCH</td>\n",
       "      <td>ONTHE HILL CLOSER TO THE MAIN ROAD</td>\n",
       "      <td>OBUASI-KUMASI MAIN ROAD</td>\n",
       "      <td>KUNKA</td>\n",
       "      <td>OBUASI</td>\n",
       "      <td>NaN</td>\n",
       "      <td>231227768.0</td>\n",
       "      <td>Activities of religious organizations</td>\n",
       "      <td>12 APOSTLES HEALING CHURCH, OBUASI-KUMASI MAIN...</td>\n",
       "    </tr>\n",
       "    <tr>\n",
       "      <th>3</th>\n",
       "      <td>2A'S BARBERING SALON</td>\n",
       "      <td>ADAJCENT SARFO SHOES SHOP</td>\n",
       "      <td>ANYINAM ROAD</td>\n",
       "      <td>ANYINAM</td>\n",
       "      <td>OBUASI</td>\n",
       "      <td>NaN</td>\n",
       "      <td>540625403.0</td>\n",
       "      <td>Hairdressing and other beauty treatment</td>\n",
       "      <td>2A'S BARBERING SALON, ANYINAM ROAD, OBUASI</td>\n",
       "    </tr>\n",
       "    <tr>\n",
       "      <th>4</th>\n",
       "      <td>2B'S ENTERPRISE</td>\n",
       "      <td>OPPOSITE ST. THOMAS SCHOOL</td>\n",
       "      <td>BEATICE PRAH</td>\n",
       "      <td>NEW NSUTA</td>\n",
       "      <td>OBUASI</td>\n",
       "      <td>NaN</td>\n",
       "      <td>243266234.0</td>\n",
       "      <td>Retail sale of books, newspapers and stationar...</td>\n",
       "      <td>2B'S ENTERPRISE, BEATICE PRAH, OBUASI</td>\n",
       "    </tr>\n",
       "  </tbody>\n",
       "</table>\n",
       "</div>"
      ],
      "text/plain": [
       "            ESTABLISHMENTNAME                      EXACT LOCATION  \\\n",
       "0          1106 DRINKING SPOT       OPPOSITE MARY KOOMSON'S SALON   \n",
       "1          12 APOSTLES CHURCH    OPPOSITE THE CHURCH OF PENTECOST   \n",
       "2  12 APOSTLES HEALING CHURCH  ONTHE HILL CLOSER TO THE MAIN ROAD   \n",
       "3        2A'S BARBERING SALON           ADAJCENT SARFO SHOES SHOP   \n",
       "4             2B'S ENTERPRISE          OPPOSITE ST. THOMAS SCHOOL   \n",
       "\n",
       "             STREETADDRESS      SUBURB TOWNNAME POSTALADDRESS        PHONE  \\\n",
       "0                      NaN   AKAPORISO   OBUASI           NaN  249270318.0   \n",
       "1           NANKABA STREET  ANYINAMFIE   OBUASI           NaN  249512289.0   \n",
       "2  OBUASI-KUMASI MAIN ROAD       KUNKA   OBUASI           NaN  231227768.0   \n",
       "3             ANYINAM ROAD     ANYINAM   OBUASI           NaN  540625403.0   \n",
       "4             BEATICE PRAH   NEW NSUTA   OBUASI           NaN  243266234.0   \n",
       "\n",
       "                          PRINCIPALECONOMIC ACTIVITY  \\\n",
       "0                        Beverage serving activities   \n",
       "1              Activities of religious organizations   \n",
       "2              Activities of religious organizations   \n",
       "3            Hairdressing and other beauty treatment   \n",
       "4  Retail sale of books, newspapers and stationar...   \n",
       "\n",
       "                                             ADDRESS  \n",
       "0                                                NaN  \n",
       "1         12 APOSTLES CHURCH, NANKABA STREET, OBUASI  \n",
       "2  12 APOSTLES HEALING CHURCH, OBUASI-KUMASI MAIN...  \n",
       "3         2A'S BARBERING SALON, ANYINAM ROAD, OBUASI  \n",
       "4              2B'S ENTERPRISE, BEATICE PRAH, OBUASI  "
      ]
     },
     "execution_count": 14,
     "metadata": {},
     "output_type": "execute_result"
    }
   ],
   "source": [
    "df = pd.read_csv('Obuasi IBES Merged.csv')\n",
    "df.head()\n",
    "\n",
    "#Read the data \n",
    "df = pd.read_csv('Obuasi IBES Merged.csv')\n",
    "df.head()\n",
    "\n",
    "#Merge the needed Fields\n",
    "df[\"ADDRESS\"] = df[\"ESTABLISHMENTNAME\"] +', '+ df[\"STREETADDRESS\"] +', ' + df[\"TOWNNAME\"]\n",
    "df.head()"
   ]
  },
  {
   "cell_type": "code",
   "execution_count": 12,
   "metadata": {},
   "outputs": [
    {
     "data": {
      "text/html": [
       "<div>\n",
       "<style scoped>\n",
       "    .dataframe tbody tr th:only-of-type {\n",
       "        vertical-align: middle;\n",
       "    }\n",
       "\n",
       "    .dataframe tbody tr th {\n",
       "        vertical-align: top;\n",
       "    }\n",
       "\n",
       "    .dataframe thead th {\n",
       "        text-align: right;\n",
       "    }\n",
       "</style>\n",
       "<table border=\"1\" class=\"dataframe\">\n",
       "  <thead>\n",
       "    <tr style=\"text-align: right;\">\n",
       "      <th></th>\n",
       "      <th>Name</th>\n",
       "      <th>City</th>\n",
       "      <th>Country</th>\n",
       "    </tr>\n",
       "  </thead>\n",
       "  <tbody>\n",
       "    <tr>\n",
       "      <th>0</th>\n",
       "      <td>Ghana International School</td>\n",
       "      <td>Accra</td>\n",
       "      <td>Ghana</td>\n",
       "    </tr>\n",
       "    <tr>\n",
       "      <th>1</th>\n",
       "      <td>High Commission of the Republic of Sierra Leone</td>\n",
       "      <td>Accra</td>\n",
       "      <td>Ghana</td>\n",
       "    </tr>\n",
       "    <tr>\n",
       "      <th>2</th>\n",
       "      <td>University of Ghana</td>\n",
       "      <td>Accra</td>\n",
       "      <td>Ghana</td>\n",
       "    </tr>\n",
       "    <tr>\n",
       "      <th>3</th>\n",
       "      <td>37 Millitary Hospital</td>\n",
       "      <td>Accra</td>\n",
       "      <td>Ghana</td>\n",
       "    </tr>\n",
       "    <tr>\n",
       "      <th>4</th>\n",
       "      <td>Accra International Conference Center</td>\n",
       "      <td>Accra</td>\n",
       "      <td>Ghana</td>\n",
       "    </tr>\n",
       "  </tbody>\n",
       "</table>\n",
       "</div>"
      ],
      "text/plain": [
       "                                              Name   City Country\n",
       "0                       Ghana International School  Accra   Ghana\n",
       "1  High Commission of the Republic of Sierra Leone  Accra   Ghana\n",
       "2                              University of Ghana  Accra   Ghana\n",
       "3                            37 Millitary Hospital  Accra   Ghana\n",
       "4            Accra International Conference Center  Accra   Ghana"
      ]
     },
     "execution_count": 12,
     "metadata": {},
     "output_type": "execute_result"
    }
   ],
   "source": [
    "#Read the data \n",
    "df = pd.read_csv(\"Ghana_Project.csv\")\n",
    "df.head()\n",
    "\n",
    "#Merge the needed Fields\n",
    "# df[\"ADDRESS\"] = df[\"Name\"] +', '+ df[\"City\"] +', ' + df[\"Country\"]\n",
    "# df.head()"
   ]
  },
  {
   "cell_type": "code",
   "execution_count": null,
   "metadata": {},
   "outputs": [],
   "source": []
  },
  {
   "cell_type": "code",
   "execution_count": null,
   "metadata": {},
   "outputs": [],
   "source": []
  },
  {
   "cell_type": "markdown",
   "metadata": {},
   "source": [
    "Import rate limiter to delay the geocoding calls between the addresses"
   ]
  },
  {
   "cell_type": "code",
   "execution_count": 15,
   "metadata": {},
   "outputs": [],
   "source": [
    "geolocator = Nominatim(user_agent=\"John\")\n",
    "from geopy.extra.rate_limiter import RateLimiter\n",
    "geocode = RateLimiter(geolocator.geocode, min_delay_seconds =1)"
   ]
  },
  {
   "cell_type": "markdown",
   "metadata": {},
   "source": [
    "Location column must be created to store the coordinates as a tuple (Actual geocoding)"
   ]
  },
  {
   "cell_type": "code",
   "execution_count": null,
   "metadata": {},
   "outputs": [
    {
     "name": "stderr",
     "output_type": "stream",
     "text": [
      "RateLimiter caught an error, retrying (0/2 tries). Called with (*('AHENFIE SHOE MAKING, OBUASI HIGH STREET, OBUASI',), **{}).\n",
      "Traceback (most recent call last):\n",
      "  File \"/Users/johndogbey/opt/anaconda3/envs/JohnDogbey/lib/python3.8/site-packages/urllib3/connectionpool.py\", line 343, in _make_request\n",
      "    self._validate_conn(conn)\n",
      "  File \"/Users/johndogbey/opt/anaconda3/envs/JohnDogbey/lib/python3.8/site-packages/urllib3/connectionpool.py\", line 839, in _validate_conn\n",
      "    conn.connect()\n",
      "  File \"/Users/johndogbey/opt/anaconda3/envs/JohnDogbey/lib/python3.8/site-packages/urllib3/connection.py\", line 337, in connect\n",
      "    self.sock = ssl_wrap_socket(\n",
      "  File \"/Users/johndogbey/opt/anaconda3/envs/JohnDogbey/lib/python3.8/site-packages/urllib3/util/ssl_.py\", line 345, in ssl_wrap_socket\n",
      "    return context.wrap_socket(sock, server_hostname=server_hostname)\n",
      "  File \"/Users/johndogbey/opt/anaconda3/envs/JohnDogbey/lib/python3.8/ssl.py\", line 500, in wrap_socket\n",
      "    return self.sslsocket_class._create(\n",
      "  File \"/Users/johndogbey/opt/anaconda3/envs/JohnDogbey/lib/python3.8/ssl.py\", line 1040, in _create\n",
      "    self.do_handshake()\n",
      "  File \"/Users/johndogbey/opt/anaconda3/envs/JohnDogbey/lib/python3.8/ssl.py\", line 1309, in do_handshake\n",
      "    self._sslobj.do_handshake()\n",
      "socket.timeout: _ssl.c:1106: The handshake operation timed out\n",
      "\n",
      "During handling of the above exception, another exception occurred:\n",
      "\n",
      "Traceback (most recent call last):\n",
      "  File \"/Users/johndogbey/opt/anaconda3/envs/JohnDogbey/lib/python3.8/site-packages/urllib3/connectionpool.py\", line 597, in urlopen\n",
      "    httplib_response = self._make_request(conn, method, url,\n",
      "  File \"/Users/johndogbey/opt/anaconda3/envs/JohnDogbey/lib/python3.8/site-packages/urllib3/connectionpool.py\", line 346, in _make_request\n",
      "    self._raise_timeout(err=e, url=url, timeout_value=conn.timeout)\n",
      "  File \"/Users/johndogbey/opt/anaconda3/envs/JohnDogbey/lib/python3.8/site-packages/urllib3/connectionpool.py\", line 306, in _raise_timeout\n",
      "    raise ReadTimeoutError(self, url, \"Read timed out. (read timeout=%s)\" % timeout_value)\n",
      "urllib3.exceptions.ReadTimeoutError: HTTPSConnectionPool(host='nominatim.openstreetmap.org', port=443): Read timed out. (read timeout=1)\n",
      "\n",
      "During handling of the above exception, another exception occurred:\n",
      "\n",
      "Traceback (most recent call last):\n",
      "  File \"/Users/johndogbey/opt/anaconda3/envs/JohnDogbey/lib/python3.8/site-packages/requests/adapters.py\", line 439, in send\n",
      "    resp = conn.urlopen(\n",
      "  File \"/Users/johndogbey/opt/anaconda3/envs/JohnDogbey/lib/python3.8/site-packages/urllib3/connectionpool.py\", line 663, in urlopen\n",
      "    return self.urlopen(method, url, body, headers, retries,\n",
      "  File \"/Users/johndogbey/opt/anaconda3/envs/JohnDogbey/lib/python3.8/site-packages/urllib3/connectionpool.py\", line 663, in urlopen\n",
      "    return self.urlopen(method, url, body, headers, retries,\n",
      "  File \"/Users/johndogbey/opt/anaconda3/envs/JohnDogbey/lib/python3.8/site-packages/urllib3/connectionpool.py\", line 637, in urlopen\n",
      "    retries = retries.increment(method, url, error=e, _pool=self,\n",
      "  File \"/Users/johndogbey/opt/anaconda3/envs/JohnDogbey/lib/python3.8/site-packages/urllib3/util/retry.py\", line 399, in increment\n",
      "    raise MaxRetryError(_pool, url, error or ResponseError(cause))\n",
      "urllib3.exceptions.MaxRetryError: HTTPSConnectionPool(host='nominatim.openstreetmap.org', port=443): Max retries exceeded with url: /search?q=AHENFIE+SHOE+MAKING%2C+OBUASI+HIGH+STREET%2C+OBUASI&format=json&limit=1 (Caused by ReadTimeoutError(\"HTTPSConnectionPool(host='nominatim.openstreetmap.org', port=443): Read timed out. (read timeout=1)\"))\n",
      "\n",
      "During handling of the above exception, another exception occurred:\n",
      "\n",
      "Traceback (most recent call last):\n",
      "  File \"/Users/johndogbey/opt/anaconda3/envs/JohnDogbey/lib/python3.8/site-packages/geopy/adapters.py\", line 383, in _request\n",
      "    resp = self.session.get(url, timeout=timeout, headers=headers)\n",
      "  File \"/Users/johndogbey/opt/anaconda3/envs/JohnDogbey/lib/python3.8/site-packages/requests/sessions.py\", line 555, in get\n",
      "    return self.request('GET', url, **kwargs)\n",
      "  File \"/Users/johndogbey/opt/anaconda3/envs/JohnDogbey/lib/python3.8/site-packages/requests/sessions.py\", line 542, in request\n",
      "    resp = self.send(prep, **send_kwargs)\n",
      "  File \"/Users/johndogbey/opt/anaconda3/envs/JohnDogbey/lib/python3.8/site-packages/requests/sessions.py\", line 655, in send\n",
      "    r = adapter.send(request, **kwargs)\n",
      "  File \"/Users/johndogbey/opt/anaconda3/envs/JohnDogbey/lib/python3.8/site-packages/requests/adapters.py\", line 516, in send\n",
      "    raise ConnectionError(e, request=request)\n",
      "requests.exceptions.ConnectionError: HTTPSConnectionPool(host='nominatim.openstreetmap.org', port=443): Max retries exceeded with url: /search?q=AHENFIE+SHOE+MAKING%2C+OBUASI+HIGH+STREET%2C+OBUASI&format=json&limit=1 (Caused by ReadTimeoutError(\"HTTPSConnectionPool(host='nominatim.openstreetmap.org', port=443): Read timed out. (read timeout=1)\"))\n",
      "\n",
      "During handling of the above exception, another exception occurred:\n",
      "\n",
      "Traceback (most recent call last):\n",
      "  File \"/Users/johndogbey/opt/anaconda3/envs/JohnDogbey/lib/python3.8/site-packages/geopy/extra/rate_limiter.py\", line 136, in _retries_gen\n",
      "    yield i  # Run the function.\n",
      "  File \"/Users/johndogbey/opt/anaconda3/envs/JohnDogbey/lib/python3.8/site-packages/geopy/extra/rate_limiter.py\", line 274, in __call__\n",
      "    res = self.func(*args, **kwargs)\n",
      "  File \"/Users/johndogbey/opt/anaconda3/envs/JohnDogbey/lib/python3.8/site-packages/geopy/geocoders/nominatim.py\", line 294, in geocode\n",
      "    return self._call_geocoder(url, callback, timeout=timeout)\n",
      "  File \"/Users/johndogbey/opt/anaconda3/envs/JohnDogbey/lib/python3.8/site-packages/geopy/geocoders/base.py\", line 360, in _call_geocoder\n",
      "    result = self.adapter.get_json(url, timeout=timeout, headers=req_headers)\n",
      "  File \"/Users/johndogbey/opt/anaconda3/envs/JohnDogbey/lib/python3.8/site-packages/geopy/adapters.py\", line 373, in get_json\n",
      "    resp = self._request(url, timeout=timeout, headers=headers)\n",
      "  File \"/Users/johndogbey/opt/anaconda3/envs/JohnDogbey/lib/python3.8/site-packages/geopy/adapters.py\", line 395, in _request\n",
      "    raise GeocoderUnavailable(message)\n",
      "geopy.exc.GeocoderUnavailable: HTTPSConnectionPool(host='nominatim.openstreetmap.org', port=443): Max retries exceeded with url: /search?q=AHENFIE+SHOE+MAKING%2C+OBUASI+HIGH+STREET%2C+OBUASI&format=json&limit=1 (Caused by ReadTimeoutError(\"HTTPSConnectionPool(host='nominatim.openstreetmap.org', port=443): Read timed out. (read timeout=1)\"))\n"
     ]
    }
   ],
   "source": [
    "df['location'] = df['ADDRESS'].apply(geocode)"
   ]
  },
  {
   "cell_type": "markdown",
   "metadata": {},
   "source": [
    "Create longitude, latitude and altitude from location column above"
   ]
  },
  {
   "cell_type": "code",
   "execution_count": null,
   "metadata": {},
   "outputs": [],
   "source": [
    "df['point'] = df['location'].apply(lambda loc: tuple(loc.point) if loc else None)"
   ]
  },
  {
   "cell_type": "markdown",
   "metadata": {},
   "source": [
    "##### split the point columns into three; latitudes, longitudes and altitudes"
   ]
  },
  {
   "cell_type": "code",
   "execution_count": 6,
   "metadata": {},
   "outputs": [],
   "source": [
    "df[['latitude', 'longitude', 'altitude']] = pd.DataFrame(df['point'].tolist(), index=df.index)"
   ]
  },
  {
   "cell_type": "markdown",
   "metadata": {},
   "source": [
    "clean unwanted columns"
   ]
  },
  {
   "cell_type": "code",
   "execution_count": 7,
   "metadata": {},
   "outputs": [],
   "source": [
    "df = df.drop(['City', 'Country', 'ADDRESS', 'location', 'point'], axis = 1)"
   ]
  },
  {
   "cell_type": "markdown",
   "metadata": {},
   "source": [
    "display the result"
   ]
  },
  {
   "cell_type": "code",
   "execution_count": 8,
   "metadata": {},
   "outputs": [
    {
     "data": {
      "text/html": [
       "<div>\n",
       "<style scoped>\n",
       "    .dataframe tbody tr th:only-of-type {\n",
       "        vertical-align: middle;\n",
       "    }\n",
       "\n",
       "    .dataframe tbody tr th {\n",
       "        vertical-align: top;\n",
       "    }\n",
       "\n",
       "    .dataframe thead th {\n",
       "        text-align: right;\n",
       "    }\n",
       "</style>\n",
       "<table border=\"1\" class=\"dataframe\">\n",
       "  <thead>\n",
       "    <tr style=\"text-align: right;\">\n",
       "      <th></th>\n",
       "      <th>Name</th>\n",
       "      <th>latitude</th>\n",
       "      <th>longitude</th>\n",
       "      <th>altitude</th>\n",
       "    </tr>\n",
       "  </thead>\n",
       "  <tbody>\n",
       "    <tr>\n",
       "      <th>0</th>\n",
       "      <td>Ghana International School</td>\n",
       "      <td>5.581174</td>\n",
       "      <td>-0.174440</td>\n",
       "      <td>0.0</td>\n",
       "    </tr>\n",
       "    <tr>\n",
       "      <th>1</th>\n",
       "      <td>High Commission of the Republic of Sierra Leone</td>\n",
       "      <td>5.580602</td>\n",
       "      <td>-0.177936</td>\n",
       "      <td>0.0</td>\n",
       "    </tr>\n",
       "    <tr>\n",
       "      <th>2</th>\n",
       "      <td>University of Ghana</td>\n",
       "      <td>5.648167</td>\n",
       "      <td>-0.190270</td>\n",
       "      <td>0.0</td>\n",
       "    </tr>\n",
       "    <tr>\n",
       "      <th>3</th>\n",
       "      <td>37 Millitary Hospital</td>\n",
       "      <td>NaN</td>\n",
       "      <td>NaN</td>\n",
       "      <td>NaN</td>\n",
       "    </tr>\n",
       "    <tr>\n",
       "      <th>4</th>\n",
       "      <td>Accra International Conference Center</td>\n",
       "      <td>5.554312</td>\n",
       "      <td>-0.193372</td>\n",
       "      <td>0.0</td>\n",
       "    </tr>\n",
       "  </tbody>\n",
       "</table>\n",
       "</div>"
      ],
      "text/plain": [
       "                                              Name  latitude  longitude  \\\n",
       "0                       Ghana International School  5.581174  -0.174440   \n",
       "1  High Commission of the Republic of Sierra Leone  5.580602  -0.177936   \n",
       "2                              University of Ghana  5.648167  -0.190270   \n",
       "3                            37 Millitary Hospital       NaN        NaN   \n",
       "4            Accra International Conference Center  5.554312  -0.193372   \n",
       "\n",
       "   altitude  \n",
       "0       0.0  \n",
       "1       0.0  \n",
       "2       0.0  \n",
       "3       NaN  \n",
       "4       0.0  "
      ]
     },
     "execution_count": 8,
     "metadata": {},
     "output_type": "execute_result"
    }
   ],
   "source": [
    "df.head()"
   ]
  },
  {
   "cell_type": "markdown",
   "metadata": {},
   "source": [
    "Avoid Nan error by dropping the rows that are empty"
   ]
  },
  {
   "cell_type": "code",
   "execution_count": 9,
   "metadata": {},
   "outputs": [],
   "source": [
    "df=df.dropna(subset=['longitude'])\n",
    "\n",
    "df=df.dropna(subset=['latitude'])"
   ]
  },
  {
   "cell_type": "code",
   "execution_count": 10,
   "metadata": {},
   "outputs": [],
   "source": [
    "map1 = folium.Map(\n",
    "    location = [5.580337, -0.176469],\n",
    "    tiles = 'Stamen Terrain',\n",
    "zoom_start=7,\n",
    ")"
   ]
  },
  {
   "cell_type": "code",
   "execution_count": 12,
   "metadata": {},
   "outputs": [
    {
     "data": {
      "text/html": [
       "<div style=\"width:100%;\"><div style=\"position:relative;width:100%;height:0;padding-bottom:60%;\"><iframe src=\"data:text/html;charset=utf-8;base64,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\" style=\"position:absolute;width:100%;height:100%;left:0;top:0;border:none !important;\" allowfullscreen webkitallowfullscreen mozallowfullscreen></iframe></div></div>"
      ],
      "text/plain": [
       "<folium.folium.Map at 0x7fbdbac56d60>"
      ]
     },
     "execution_count": 12,
     "metadata": {},
     "output_type": "execute_result"
    }
   ],
   "source": [
    "df.apply(lambda row:folium.Marker(\n",
    "    location=[row[\"latitude\"],\n",
    "              row[\"longitude\"]],\n",
    "    popup = row['Name'], \n",
    "    icon=folium.Icon(color='red')\n",
    "    ).add_to(map1), axis=1)\n",
    "map1"
   ]
  },
  {
   "cell_type": "code",
   "execution_count": null,
   "metadata": {},
   "outputs": [],
   "source": []
  },
  {
   "cell_type": "code",
   "execution_count": 13,
   "metadata": {},
   "outputs": [],
   "source": [
    "# Save the map\n",
    "map1.save(\"Ghana_geocoded_Address.html\")"
   ]
  },
  {
   "cell_type": "markdown",
   "metadata": {},
   "source": [
    "\n"
   ]
  },
  {
   "cell_type": "code",
   "execution_count": null,
   "metadata": {},
   "outputs": [],
   "source": []
  }
 ],
 "metadata": {
  "kernelspec": {
   "display_name": "Python 3",
   "language": "python",
   "name": "python3"
  },
  "language_info": {
   "codemirror_mode": {
    "name": "ipython",
    "version": 3
   },
   "file_extension": ".py",
   "mimetype": "text/x-python",
   "name": "python",
   "nbconvert_exporter": "python",
   "pygments_lexer": "ipython3",
   "version": "3.8.5"
  }
 },
 "nbformat": 4,
 "nbformat_minor": 4
}
